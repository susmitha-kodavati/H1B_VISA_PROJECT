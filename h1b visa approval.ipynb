{
 "cells": [
  {
   "cell_type": "markdown",
   "metadata": {},
   "source": [
    "# IMPORTING LIBRARIES"
   ]
  },
  {
   "cell_type": "code",
   "execution_count": 1,
   "metadata": {},
   "outputs": [],
   "source": [
    "#importing the necessary libraries\n",
    "import numpy as np\n",
    "import pandas as pd\n",
    "import matplotlib.pyplot as plt\n",
    "import seaborn as sns\n",
    "import os"
   ]
  },
  {
   "cell_type": "markdown",
   "metadata": {},
   "source": [
    "# Reading the dataset"
   ]
  },
  {
   "cell_type": "code",
   "execution_count": 2,
   "metadata": {},
   "outputs": [],
   "source": [
    "#Reading the data set from the .csv file\n",
    "data=pd.read_csv(\"h1b_kaggle.csv\")"
   ]
  },
  {
   "cell_type": "code",
   "execution_count": 3,
   "metadata": {},
   "outputs": [
    {
     "data": {
      "text/plain": [
       "(3002458, 11)"
      ]
     },
     "execution_count": 3,
     "metadata": {},
     "output_type": "execute_result"
    }
   ],
   "source": [
    "#Checking the number of rows and columns of our data set\n",
    "data.shape"
   ]
  },
  {
   "cell_type": "code",
   "execution_count": 4,
   "metadata": {},
   "outputs": [
    {
     "data": {
      "text/html": [
       "<div>\n",
       "<style scoped>\n",
       "    .dataframe tbody tr th:only-of-type {\n",
       "        vertical-align: middle;\n",
       "    }\n",
       "\n",
       "    .dataframe tbody tr th {\n",
       "        vertical-align: top;\n",
       "    }\n",
       "\n",
       "    .dataframe thead th {\n",
       "        text-align: right;\n",
       "    }\n",
       "</style>\n",
       "<table border=\"1\" class=\"dataframe\">\n",
       "  <thead>\n",
       "    <tr style=\"text-align: right;\">\n",
       "      <th></th>\n",
       "      <th>Unnamed: 0</th>\n",
       "      <th>CASE_STATUS</th>\n",
       "      <th>EMPLOYER_NAME</th>\n",
       "      <th>SOC_NAME</th>\n",
       "      <th>JOB_TITLE</th>\n",
       "      <th>FULL_TIME_POSITION</th>\n",
       "      <th>PREVAILING_WAGE</th>\n",
       "      <th>YEAR</th>\n",
       "      <th>WORKSITE</th>\n",
       "      <th>lon</th>\n",
       "      <th>lat</th>\n",
       "    </tr>\n",
       "  </thead>\n",
       "  <tbody>\n",
       "    <tr>\n",
       "      <th>0</th>\n",
       "      <td>1</td>\n",
       "      <td>CERTIFIED-WITHDRAWN</td>\n",
       "      <td>UNIVERSITY OF MICHIGAN</td>\n",
       "      <td>BIOCHEMISTS AND BIOPHYSICISTS</td>\n",
       "      <td>POSTDOCTORAL RESEARCH FELLOW</td>\n",
       "      <td>N</td>\n",
       "      <td>36067.0</td>\n",
       "      <td>2016.0</td>\n",
       "      <td>ANN ARBOR, MICHIGAN</td>\n",
       "      <td>-83.743038</td>\n",
       "      <td>42.280826</td>\n",
       "    </tr>\n",
       "    <tr>\n",
       "      <th>1</th>\n",
       "      <td>2</td>\n",
       "      <td>CERTIFIED-WITHDRAWN</td>\n",
       "      <td>GOODMAN NETWORKS, INC.</td>\n",
       "      <td>CHIEF EXECUTIVES</td>\n",
       "      <td>CHIEF OPERATING OFFICER</td>\n",
       "      <td>Y</td>\n",
       "      <td>242674.0</td>\n",
       "      <td>2016.0</td>\n",
       "      <td>PLANO, TEXAS</td>\n",
       "      <td>-96.698886</td>\n",
       "      <td>33.019843</td>\n",
       "    </tr>\n",
       "    <tr>\n",
       "      <th>2</th>\n",
       "      <td>3</td>\n",
       "      <td>CERTIFIED-WITHDRAWN</td>\n",
       "      <td>PORTS AMERICA GROUP, INC.</td>\n",
       "      <td>CHIEF EXECUTIVES</td>\n",
       "      <td>CHIEF PROCESS OFFICER</td>\n",
       "      <td>Y</td>\n",
       "      <td>193066.0</td>\n",
       "      <td>2016.0</td>\n",
       "      <td>JERSEY CITY, NEW JERSEY</td>\n",
       "      <td>-74.077642</td>\n",
       "      <td>40.728158</td>\n",
       "    </tr>\n",
       "    <tr>\n",
       "      <th>3</th>\n",
       "      <td>4</td>\n",
       "      <td>CERTIFIED-WITHDRAWN</td>\n",
       "      <td>GATES CORPORATION, A WHOLLY-OWNED SUBSIDIARY O...</td>\n",
       "      <td>CHIEF EXECUTIVES</td>\n",
       "      <td>REGIONAL PRESIDEN, AMERICAS</td>\n",
       "      <td>Y</td>\n",
       "      <td>220314.0</td>\n",
       "      <td>2016.0</td>\n",
       "      <td>DENVER, COLORADO</td>\n",
       "      <td>-104.990251</td>\n",
       "      <td>39.739236</td>\n",
       "    </tr>\n",
       "    <tr>\n",
       "      <th>4</th>\n",
       "      <td>5</td>\n",
       "      <td>WITHDRAWN</td>\n",
       "      <td>PEABODY INVESTMENTS CORP.</td>\n",
       "      <td>CHIEF EXECUTIVES</td>\n",
       "      <td>PRESIDENT MONGOLIA AND INDIA</td>\n",
       "      <td>Y</td>\n",
       "      <td>157518.4</td>\n",
       "      <td>2016.0</td>\n",
       "      <td>ST. LOUIS, MISSOURI</td>\n",
       "      <td>-90.199404</td>\n",
       "      <td>38.627003</td>\n",
       "    </tr>\n",
       "  </tbody>\n",
       "</table>\n",
       "</div>"
      ],
      "text/plain": [
       "   Unnamed: 0          CASE_STATUS  \\\n",
       "0           1  CERTIFIED-WITHDRAWN   \n",
       "1           2  CERTIFIED-WITHDRAWN   \n",
       "2           3  CERTIFIED-WITHDRAWN   \n",
       "3           4  CERTIFIED-WITHDRAWN   \n",
       "4           5            WITHDRAWN   \n",
       "\n",
       "                                       EMPLOYER_NAME  \\\n",
       "0                             UNIVERSITY OF MICHIGAN   \n",
       "1                             GOODMAN NETWORKS, INC.   \n",
       "2                          PORTS AMERICA GROUP, INC.   \n",
       "3  GATES CORPORATION, A WHOLLY-OWNED SUBSIDIARY O...   \n",
       "4                          PEABODY INVESTMENTS CORP.   \n",
       "\n",
       "                        SOC_NAME                     JOB_TITLE  \\\n",
       "0  BIOCHEMISTS AND BIOPHYSICISTS  POSTDOCTORAL RESEARCH FELLOW   \n",
       "1               CHIEF EXECUTIVES       CHIEF OPERATING OFFICER   \n",
       "2               CHIEF EXECUTIVES         CHIEF PROCESS OFFICER   \n",
       "3               CHIEF EXECUTIVES   REGIONAL PRESIDEN, AMERICAS   \n",
       "4               CHIEF EXECUTIVES  PRESIDENT MONGOLIA AND INDIA   \n",
       "\n",
       "  FULL_TIME_POSITION  PREVAILING_WAGE    YEAR                 WORKSITE  \\\n",
       "0                  N          36067.0  2016.0      ANN ARBOR, MICHIGAN   \n",
       "1                  Y         242674.0  2016.0             PLANO, TEXAS   \n",
       "2                  Y         193066.0  2016.0  JERSEY CITY, NEW JERSEY   \n",
       "3                  Y         220314.0  2016.0         DENVER, COLORADO   \n",
       "4                  Y         157518.4  2016.0      ST. LOUIS, MISSOURI   \n",
       "\n",
       "          lon        lat  \n",
       "0  -83.743038  42.280826  \n",
       "1  -96.698886  33.019843  \n",
       "2  -74.077642  40.728158  \n",
       "3 -104.990251  39.739236  \n",
       "4  -90.199404  38.627003  "
      ]
     },
     "execution_count": 4,
     "metadata": {},
     "output_type": "execute_result"
    }
   ],
   "source": [
    "#Checking the attributes in the dataset\n",
    "data.head()"
   ]
  },
  {
   "cell_type": "markdown",
   "metadata": {},
   "source": [
    "# Exploratory DATA ANALYSIS"
   ]
  },
  {
   "cell_type": "code",
   "execution_count": 5,
   "metadata": {},
   "outputs": [
    {
     "data": {
      "text/plain": [
       "Unnamed: 0                 0\n",
       "CASE_STATUS               13\n",
       "EMPLOYER_NAME             59\n",
       "SOC_NAME               17734\n",
       "JOB_TITLE                 43\n",
       "FULL_TIME_POSITION        15\n",
       "PREVAILING_WAGE           85\n",
       "YEAR                      13\n",
       "WORKSITE                   0\n",
       "lon                   107242\n",
       "lat                   107242\n",
       "dtype: int64"
      ]
     },
     "execution_count": 5,
     "metadata": {},
     "output_type": "execute_result"
    }
   ],
   "source": [
    "#Checking the null values in the dataset\n",
    "data.isnull().sum()"
   ]
  },
  {
   "cell_type": "code",
   "execution_count": 6,
   "metadata": {},
   "outputs": [
    {
     "data": {
      "text/plain": [
       "Unnamed: 0            0\n",
       "CASE_STATUS           0\n",
       "EMPLOYER_NAME         0\n",
       "SOC_NAME              0\n",
       "JOB_TITLE             0\n",
       "FULL_TIME_POSITION    0\n",
       "PREVAILING_WAGE       0\n",
       "YEAR                  0\n",
       "WORKSITE              0\n",
       "lon                   0\n",
       "lat                   0\n",
       "dtype: int64"
      ]
     },
     "execution_count": 6,
     "metadata": {},
     "output_type": "execute_result"
    }
   ],
   "source": [
    "#Removing the null values from the dataset\n",
    "data.dropna(inplace=True)\n",
    "data.isnull().sum()"
   ]
  },
  {
   "cell_type": "code",
   "execution_count": 7,
   "metadata": {},
   "outputs": [
    {
     "data": {
      "text/plain": [
       "(2877765, 11)"
      ]
     },
     "execution_count": 7,
     "metadata": {},
     "output_type": "execute_result"
    }
   ],
   "source": [
    "#Checking the rows and columns of the data set\n",
    "data.shape"
   ]
  },
  {
   "cell_type": "code",
   "execution_count": 8,
   "metadata": {},
   "outputs": [
    {
     "data": {
      "text/plain": [
       "CERTIFIED                                             2512114\n",
       "CERTIFIED-WITHDRAWN                                    195721\n",
       "DENIED                                                  85161\n",
       "WITHDRAWN                                               84752\n",
       "PENDING QUALITY AND COMPLIANCE REVIEW - UNASSIGNED         15\n",
       "INVALIDATED                                                 1\n",
       "REJECTED                                                    1\n",
       "Name: CASE_STATUS, dtype: int64"
      ]
     },
     "execution_count": 8,
     "metadata": {},
     "output_type": "execute_result"
    }
   ],
   "source": [
    "#Removing redundancy from the target feature\n",
    "data.CASE_STATUS.value_counts()"
   ]
  },
  {
   "cell_type": "code",
   "execution_count": 9,
   "metadata": {},
   "outputs": [
    {
     "name": "stdout",
     "output_type": "stream",
     "text": [
      "<class 'pandas.core.frame.DataFrame'>\n",
      "Int64Index: 2877765 entries, 0 to 3002444\n",
      "Data columns (total 11 columns):\n",
      " #   Column              Dtype  \n",
      "---  ------              -----  \n",
      " 0   Unnamed: 0          int64  \n",
      " 1   CASE_STATUS         object \n",
      " 2   EMPLOYER_NAME       object \n",
      " 3   SOC_NAME            object \n",
      " 4   JOB_TITLE           object \n",
      " 5   FULL_TIME_POSITION  object \n",
      " 6   PREVAILING_WAGE     float64\n",
      " 7   YEAR                float64\n",
      " 8   WORKSITE            object \n",
      " 9   lon                 float64\n",
      " 10  lat                 float64\n",
      "dtypes: float64(4), int64(1), object(6)\n",
      "memory usage: 263.5+ MB\n"
     ]
    },
    {
     "data": {
      "text/html": [
       "<div>\n",
       "<style scoped>\n",
       "    .dataframe tbody tr th:only-of-type {\n",
       "        vertical-align: middle;\n",
       "    }\n",
       "\n",
       "    .dataframe tbody tr th {\n",
       "        vertical-align: top;\n",
       "    }\n",
       "\n",
       "    .dataframe thead th {\n",
       "        text-align: right;\n",
       "    }\n",
       "</style>\n",
       "<table border=\"1\" class=\"dataframe\">\n",
       "  <thead>\n",
       "    <tr style=\"text-align: right;\">\n",
       "      <th></th>\n",
       "      <th>Unnamed: 0</th>\n",
       "      <th>PREVAILING_WAGE</th>\n",
       "      <th>YEAR</th>\n",
       "      <th>lon</th>\n",
       "      <th>lat</th>\n",
       "    </tr>\n",
       "  </thead>\n",
       "  <tbody>\n",
       "    <tr>\n",
       "      <th>count</th>\n",
       "      <td>2.877765e+06</td>\n",
       "      <td>2.877765e+06</td>\n",
       "      <td>2.877765e+06</td>\n",
       "      <td>2.877765e+06</td>\n",
       "      <td>2.877765e+06</td>\n",
       "    </tr>\n",
       "    <tr>\n",
       "      <th>mean</th>\n",
       "      <td>1.489381e+06</td>\n",
       "      <td>1.451666e+05</td>\n",
       "      <td>2.013877e+03</td>\n",
       "      <td>-9.212937e+01</td>\n",
       "      <td>3.815896e+01</td>\n",
       "    </tr>\n",
       "    <tr>\n",
       "      <th>std</th>\n",
       "      <td>8.659624e+05</td>\n",
       "      <td>5.307856e+06</td>\n",
       "      <td>1.675226e+00</td>\n",
       "      <td>1.965994e+01</td>\n",
       "      <td>4.674872e+00</td>\n",
       "    </tr>\n",
       "    <tr>\n",
       "      <th>min</th>\n",
       "      <td>1.000000e+00</td>\n",
       "      <td>0.000000e+00</td>\n",
       "      <td>2.011000e+03</td>\n",
       "      <td>-1.578583e+02</td>\n",
       "      <td>1.343719e+01</td>\n",
       "    </tr>\n",
       "    <tr>\n",
       "      <th>25%</th>\n",
       "      <td>7.404220e+05</td>\n",
       "      <td>5.460000e+04</td>\n",
       "      <td>2.012000e+03</td>\n",
       "      <td>-1.118999e+02</td>\n",
       "      <td>3.416536e+01</td>\n",
       "    </tr>\n",
       "    <tr>\n",
       "      <th>50%</th>\n",
       "      <td>1.484061e+06</td>\n",
       "      <td>6.512500e+04</td>\n",
       "      <td>2.014000e+03</td>\n",
       "      <td>-8.615807e+01</td>\n",
       "      <td>3.910312e+01</td>\n",
       "    </tr>\n",
       "    <tr>\n",
       "      <th>75%</th>\n",
       "      <td>2.236965e+06</td>\n",
       "      <td>8.151500e+04</td>\n",
       "      <td>2.015000e+03</td>\n",
       "      <td>-7.551381e+01</td>\n",
       "      <td>4.088374e+01</td>\n",
       "    </tr>\n",
       "    <tr>\n",
       "      <th>max</th>\n",
       "      <td>3.002445e+06</td>\n",
       "      <td>6.997607e+09</td>\n",
       "      <td>2.016000e+03</td>\n",
       "      <td>1.457298e+02</td>\n",
       "      <td>6.483778e+01</td>\n",
       "    </tr>\n",
       "  </tbody>\n",
       "</table>\n",
       "</div>"
      ],
      "text/plain": [
       "         Unnamed: 0  PREVAILING_WAGE          YEAR           lon           lat\n",
       "count  2.877765e+06     2.877765e+06  2.877765e+06  2.877765e+06  2.877765e+06\n",
       "mean   1.489381e+06     1.451666e+05  2.013877e+03 -9.212937e+01  3.815896e+01\n",
       "std    8.659624e+05     5.307856e+06  1.675226e+00  1.965994e+01  4.674872e+00\n",
       "min    1.000000e+00     0.000000e+00  2.011000e+03 -1.578583e+02  1.343719e+01\n",
       "25%    7.404220e+05     5.460000e+04  2.012000e+03 -1.118999e+02  3.416536e+01\n",
       "50%    1.484061e+06     6.512500e+04  2.014000e+03 -8.615807e+01  3.910312e+01\n",
       "75%    2.236965e+06     8.151500e+04  2.015000e+03 -7.551381e+01  4.088374e+01\n",
       "max    3.002445e+06     6.997607e+09  2.016000e+03  1.457298e+02  6.483778e+01"
      ]
     },
     "execution_count": 9,
     "metadata": {},
     "output_type": "execute_result"
    }
   ],
   "source": [
    "#Checking the data types ofthe attributes of the dataset\n",
    "data.info()\n",
    "#Checking the statistical data of the attributes\n",
    "data.describe()"
   ]
  },
  {
   "cell_type": "code",
   "execution_count": 10,
   "metadata": {},
   "outputs": [],
   "source": [
    "#Removing redundancy values from the target attribute\n",
    "import warnings\n",
    "warnings.filterwarnings(\"ignore\")\n",
    "data.CASE_STATUS[data['CASE_STATUS']=='REJECTED'] = 'DENIED'\n",
    "data.CASE_STATUS[data['CASE_STATUS']=='INVALIDATED'] = 'DENIED'\n",
    "data.CASE_STATUS[data['CASE_STATUS']=='PENDING QUALITY AND COMPLIANCE REVIEW - UNASSIGNED'] = 'DENIED'\n",
    "data.CASE_STATUS[data['CASE_STATUS']=='CERTIFIED-WITHDRAWN'] = 'CERTIFIED'\n",
    "data = data.drop(data[data.CASE_STATUS == 'WITHDRAWN'].index)"
   ]
  },
  {
   "cell_type": "code",
   "execution_count": 11,
   "metadata": {},
   "outputs": [],
   "source": [
    "#Dropping the unwanted attributes from the dataset\n",
    "data = data.drop('lat', axis = 1)\n",
    "data = data.drop('lon', axis = 1)"
   ]
  },
  {
   "cell_type": "code",
   "execution_count": 12,
   "metadata": {},
   "outputs": [
    {
     "data": {
      "text/html": [
       "<div>\n",
       "<style scoped>\n",
       "    .dataframe tbody tr th:only-of-type {\n",
       "        vertical-align: middle;\n",
       "    }\n",
       "\n",
       "    .dataframe tbody tr th {\n",
       "        vertical-align: top;\n",
       "    }\n",
       "\n",
       "    .dataframe thead th {\n",
       "        text-align: right;\n",
       "    }\n",
       "</style>\n",
       "<table border=\"1\" class=\"dataframe\">\n",
       "  <thead>\n",
       "    <tr style=\"text-align: right;\">\n",
       "      <th></th>\n",
       "      <th>Unnamed: 0</th>\n",
       "      <th>CASE_STATUS</th>\n",
       "      <th>EMPLOYER_NAME</th>\n",
       "      <th>SOC_NAME</th>\n",
       "      <th>JOB_TITLE</th>\n",
       "      <th>FULL_TIME_POSITION</th>\n",
       "      <th>PREVAILING_WAGE</th>\n",
       "      <th>YEAR</th>\n",
       "      <th>WORKSITE</th>\n",
       "    </tr>\n",
       "  </thead>\n",
       "  <tbody>\n",
       "    <tr>\n",
       "      <th>0</th>\n",
       "      <td>1</td>\n",
       "      <td>CERTIFIED</td>\n",
       "      <td>UNIVERSITY OF MICHIGAN</td>\n",
       "      <td>BIOCHEMISTS AND BIOPHYSICISTS</td>\n",
       "      <td>POSTDOCTORAL RESEARCH FELLOW</td>\n",
       "      <td>N</td>\n",
       "      <td>36067.0</td>\n",
       "      <td>2016.0</td>\n",
       "      <td>ANN ARBOR, MICHIGAN</td>\n",
       "    </tr>\n",
       "    <tr>\n",
       "      <th>1</th>\n",
       "      <td>2</td>\n",
       "      <td>CERTIFIED</td>\n",
       "      <td>GOODMAN NETWORKS, INC.</td>\n",
       "      <td>CHIEF EXECUTIVES</td>\n",
       "      <td>CHIEF OPERATING OFFICER</td>\n",
       "      <td>Y</td>\n",
       "      <td>242674.0</td>\n",
       "      <td>2016.0</td>\n",
       "      <td>PLANO, TEXAS</td>\n",
       "    </tr>\n",
       "    <tr>\n",
       "      <th>2</th>\n",
       "      <td>3</td>\n",
       "      <td>CERTIFIED</td>\n",
       "      <td>PORTS AMERICA GROUP, INC.</td>\n",
       "      <td>CHIEF EXECUTIVES</td>\n",
       "      <td>CHIEF PROCESS OFFICER</td>\n",
       "      <td>Y</td>\n",
       "      <td>193066.0</td>\n",
       "      <td>2016.0</td>\n",
       "      <td>JERSEY CITY, NEW JERSEY</td>\n",
       "    </tr>\n",
       "    <tr>\n",
       "      <th>3</th>\n",
       "      <td>4</td>\n",
       "      <td>CERTIFIED</td>\n",
       "      <td>GATES CORPORATION, A WHOLLY-OWNED SUBSIDIARY O...</td>\n",
       "      <td>CHIEF EXECUTIVES</td>\n",
       "      <td>REGIONAL PRESIDEN, AMERICAS</td>\n",
       "      <td>Y</td>\n",
       "      <td>220314.0</td>\n",
       "      <td>2016.0</td>\n",
       "      <td>DENVER, COLORADO</td>\n",
       "    </tr>\n",
       "    <tr>\n",
       "      <th>5</th>\n",
       "      <td>6</td>\n",
       "      <td>CERTIFIED</td>\n",
       "      <td>BURGER KING CORPORATION</td>\n",
       "      <td>CHIEF EXECUTIVES</td>\n",
       "      <td>EXECUTIVE V P, GLOBAL DEVELOPMENT AND PRESIDEN...</td>\n",
       "      <td>Y</td>\n",
       "      <td>225000.0</td>\n",
       "      <td>2016.0</td>\n",
       "      <td>MIAMI, FLORIDA</td>\n",
       "    </tr>\n",
       "  </tbody>\n",
       "</table>\n",
       "</div>"
      ],
      "text/plain": [
       "   Unnamed: 0 CASE_STATUS                                      EMPLOYER_NAME  \\\n",
       "0           1   CERTIFIED                             UNIVERSITY OF MICHIGAN   \n",
       "1           2   CERTIFIED                             GOODMAN NETWORKS, INC.   \n",
       "2           3   CERTIFIED                          PORTS AMERICA GROUP, INC.   \n",
       "3           4   CERTIFIED  GATES CORPORATION, A WHOLLY-OWNED SUBSIDIARY O...   \n",
       "5           6   CERTIFIED                            BURGER KING CORPORATION   \n",
       "\n",
       "                        SOC_NAME  \\\n",
       "0  BIOCHEMISTS AND BIOPHYSICISTS   \n",
       "1               CHIEF EXECUTIVES   \n",
       "2               CHIEF EXECUTIVES   \n",
       "3               CHIEF EXECUTIVES   \n",
       "5               CHIEF EXECUTIVES   \n",
       "\n",
       "                                           JOB_TITLE FULL_TIME_POSITION  \\\n",
       "0                       POSTDOCTORAL RESEARCH FELLOW                  N   \n",
       "1                            CHIEF OPERATING OFFICER                  Y   \n",
       "2                              CHIEF PROCESS OFFICER                  Y   \n",
       "3                        REGIONAL PRESIDEN, AMERICAS                  Y   \n",
       "5  EXECUTIVE V P, GLOBAL DEVELOPMENT AND PRESIDEN...                  Y   \n",
       "\n",
       "   PREVAILING_WAGE    YEAR                 WORKSITE  \n",
       "0          36067.0  2016.0      ANN ARBOR, MICHIGAN  \n",
       "1         242674.0  2016.0             PLANO, TEXAS  \n",
       "2         193066.0  2016.0  JERSEY CITY, NEW JERSEY  \n",
       "3         220314.0  2016.0         DENVER, COLORADO  \n",
       "5         225000.0  2016.0           MIAMI, FLORIDA  "
      ]
     },
     "execution_count": 12,
     "metadata": {},
     "output_type": "execute_result"
    }
   ],
   "source": [
    "#Checking the attributes in the dataset\n",
    "data.head()"
   ]
  },
  {
   "cell_type": "code",
   "execution_count": 13,
   "metadata": {},
   "outputs": [
    {
     "data": {
      "text/plain": [
       "(2793013, 10)"
      ]
     },
     "execution_count": 13,
     "metadata": {},
     "output_type": "execute_result"
    }
   ],
   "source": [
    "#Adding new attributes for the pre-processing in the dataset\n",
    "data['NEW_EMPLOYER'] = np.nan\n",
    "data.shape"
   ]
  },
  {
   "cell_type": "code",
   "execution_count": 14,
   "metadata": {},
   "outputs": [],
   "source": [
    "#Assigning the values to the new attribute added\n",
    "data['EMPLOYER_NAME'] = data['EMPLOYER_NAME'].str.lower()\n",
    "data.NEW_EMPLOYER[data['EMPLOYER_NAME'].str.contains('university')] = 'university'\n",
    "data['NEW_EMPLOYER']= data.NEW_EMPLOYER.replace(np.nan, 'non university', regex=True)"
   ]
  },
  {
   "cell_type": "code",
   "execution_count": 15,
   "metadata": {},
   "outputs": [
    {
     "data": {
      "text/html": [
       "<div>\n",
       "<style scoped>\n",
       "    .dataframe tbody tr th:only-of-type {\n",
       "        vertical-align: middle;\n",
       "    }\n",
       "\n",
       "    .dataframe tbody tr th {\n",
       "        vertical-align: top;\n",
       "    }\n",
       "\n",
       "    .dataframe thead th {\n",
       "        text-align: right;\n",
       "    }\n",
       "</style>\n",
       "<table border=\"1\" class=\"dataframe\">\n",
       "  <thead>\n",
       "    <tr style=\"text-align: right;\">\n",
       "      <th></th>\n",
       "      <th>Unnamed: 0</th>\n",
       "      <th>CASE_STATUS</th>\n",
       "      <th>EMPLOYER_NAME</th>\n",
       "      <th>SOC_NAME</th>\n",
       "      <th>JOB_TITLE</th>\n",
       "      <th>FULL_TIME_POSITION</th>\n",
       "      <th>PREVAILING_WAGE</th>\n",
       "      <th>YEAR</th>\n",
       "      <th>WORKSITE</th>\n",
       "      <th>NEW_EMPLOYER</th>\n",
       "    </tr>\n",
       "  </thead>\n",
       "  <tbody>\n",
       "    <tr>\n",
       "      <th>0</th>\n",
       "      <td>1</td>\n",
       "      <td>CERTIFIED</td>\n",
       "      <td>university of michigan</td>\n",
       "      <td>BIOCHEMISTS AND BIOPHYSICISTS</td>\n",
       "      <td>POSTDOCTORAL RESEARCH FELLOW</td>\n",
       "      <td>N</td>\n",
       "      <td>36067.0</td>\n",
       "      <td>2016.0</td>\n",
       "      <td>ANN ARBOR, MICHIGAN</td>\n",
       "      <td>university</td>\n",
       "    </tr>\n",
       "    <tr>\n",
       "      <th>1</th>\n",
       "      <td>2</td>\n",
       "      <td>CERTIFIED</td>\n",
       "      <td>goodman networks, inc.</td>\n",
       "      <td>CHIEF EXECUTIVES</td>\n",
       "      <td>CHIEF OPERATING OFFICER</td>\n",
       "      <td>Y</td>\n",
       "      <td>242674.0</td>\n",
       "      <td>2016.0</td>\n",
       "      <td>PLANO, TEXAS</td>\n",
       "      <td>non university</td>\n",
       "    </tr>\n",
       "    <tr>\n",
       "      <th>2</th>\n",
       "      <td>3</td>\n",
       "      <td>CERTIFIED</td>\n",
       "      <td>ports america group, inc.</td>\n",
       "      <td>CHIEF EXECUTIVES</td>\n",
       "      <td>CHIEF PROCESS OFFICER</td>\n",
       "      <td>Y</td>\n",
       "      <td>193066.0</td>\n",
       "      <td>2016.0</td>\n",
       "      <td>JERSEY CITY, NEW JERSEY</td>\n",
       "      <td>non university</td>\n",
       "    </tr>\n",
       "    <tr>\n",
       "      <th>3</th>\n",
       "      <td>4</td>\n",
       "      <td>CERTIFIED</td>\n",
       "      <td>gates corporation, a wholly-owned subsidiary o...</td>\n",
       "      <td>CHIEF EXECUTIVES</td>\n",
       "      <td>REGIONAL PRESIDEN, AMERICAS</td>\n",
       "      <td>Y</td>\n",
       "      <td>220314.0</td>\n",
       "      <td>2016.0</td>\n",
       "      <td>DENVER, COLORADO</td>\n",
       "      <td>non university</td>\n",
       "    </tr>\n",
       "    <tr>\n",
       "      <th>5</th>\n",
       "      <td>6</td>\n",
       "      <td>CERTIFIED</td>\n",
       "      <td>burger king corporation</td>\n",
       "      <td>CHIEF EXECUTIVES</td>\n",
       "      <td>EXECUTIVE V P, GLOBAL DEVELOPMENT AND PRESIDEN...</td>\n",
       "      <td>Y</td>\n",
       "      <td>225000.0</td>\n",
       "      <td>2016.0</td>\n",
       "      <td>MIAMI, FLORIDA</td>\n",
       "      <td>non university</td>\n",
       "    </tr>\n",
       "  </tbody>\n",
       "</table>\n",
       "</div>"
      ],
      "text/plain": [
       "   Unnamed: 0 CASE_STATUS                                      EMPLOYER_NAME  \\\n",
       "0           1   CERTIFIED                             university of michigan   \n",
       "1           2   CERTIFIED                             goodman networks, inc.   \n",
       "2           3   CERTIFIED                          ports america group, inc.   \n",
       "3           4   CERTIFIED  gates corporation, a wholly-owned subsidiary o...   \n",
       "5           6   CERTIFIED                            burger king corporation   \n",
       "\n",
       "                        SOC_NAME  \\\n",
       "0  BIOCHEMISTS AND BIOPHYSICISTS   \n",
       "1               CHIEF EXECUTIVES   \n",
       "2               CHIEF EXECUTIVES   \n",
       "3               CHIEF EXECUTIVES   \n",
       "5               CHIEF EXECUTIVES   \n",
       "\n",
       "                                           JOB_TITLE FULL_TIME_POSITION  \\\n",
       "0                       POSTDOCTORAL RESEARCH FELLOW                  N   \n",
       "1                            CHIEF OPERATING OFFICER                  Y   \n",
       "2                              CHIEF PROCESS OFFICER                  Y   \n",
       "3                        REGIONAL PRESIDEN, AMERICAS                  Y   \n",
       "5  EXECUTIVE V P, GLOBAL DEVELOPMENT AND PRESIDEN...                  Y   \n",
       "\n",
       "   PREVAILING_WAGE    YEAR                 WORKSITE    NEW_EMPLOYER  \n",
       "0          36067.0  2016.0      ANN ARBOR, MICHIGAN      university  \n",
       "1         242674.0  2016.0             PLANO, TEXAS  non university  \n",
       "2         193066.0  2016.0  JERSEY CITY, NEW JERSEY  non university  \n",
       "3         220314.0  2016.0         DENVER, COLORADO  non university  \n",
       "5         225000.0  2016.0           MIAMI, FLORIDA  non university  "
      ]
     },
     "execution_count": 15,
     "metadata": {},
     "output_type": "execute_result"
    }
   ],
   "source": [
    "#Checking the attributes of the data set\n",
    "data.head()"
   ]
  },
  {
   "cell_type": "code",
   "execution_count": 16,
   "metadata": {},
   "outputs": [],
   "source": [
    "# Splitting city and state and capturing state in another variable\n",
    "data['STATE'] = data.WORKSITE.str.split(', ').str[-1]"
   ]
  },
  {
   "cell_type": "code",
   "execution_count": 17,
   "metadata": {},
   "outputs": [
    {
     "data": {
      "text/html": [
       "<div>\n",
       "<style scoped>\n",
       "    .dataframe tbody tr th:only-of-type {\n",
       "        vertical-align: middle;\n",
       "    }\n",
       "\n",
       "    .dataframe tbody tr th {\n",
       "        vertical-align: top;\n",
       "    }\n",
       "\n",
       "    .dataframe thead th {\n",
       "        text-align: right;\n",
       "    }\n",
       "</style>\n",
       "<table border=\"1\" class=\"dataframe\">\n",
       "  <thead>\n",
       "    <tr style=\"text-align: right;\">\n",
       "      <th></th>\n",
       "      <th>Unnamed: 0</th>\n",
       "      <th>CASE_STATUS</th>\n",
       "      <th>EMPLOYER_NAME</th>\n",
       "      <th>SOC_NAME</th>\n",
       "      <th>JOB_TITLE</th>\n",
       "      <th>FULL_TIME_POSITION</th>\n",
       "      <th>PREVAILING_WAGE</th>\n",
       "      <th>YEAR</th>\n",
       "      <th>WORKSITE</th>\n",
       "      <th>NEW_EMPLOYER</th>\n",
       "      <th>STATE</th>\n",
       "    </tr>\n",
       "  </thead>\n",
       "  <tbody>\n",
       "    <tr>\n",
       "      <th>0</th>\n",
       "      <td>1</td>\n",
       "      <td>CERTIFIED</td>\n",
       "      <td>university of michigan</td>\n",
       "      <td>BIOCHEMISTS AND BIOPHYSICISTS</td>\n",
       "      <td>POSTDOCTORAL RESEARCH FELLOW</td>\n",
       "      <td>N</td>\n",
       "      <td>36067.0</td>\n",
       "      <td>2016.0</td>\n",
       "      <td>ANN ARBOR, MICHIGAN</td>\n",
       "      <td>university</td>\n",
       "      <td>MICHIGAN</td>\n",
       "    </tr>\n",
       "    <tr>\n",
       "      <th>1</th>\n",
       "      <td>2</td>\n",
       "      <td>CERTIFIED</td>\n",
       "      <td>goodman networks, inc.</td>\n",
       "      <td>CHIEF EXECUTIVES</td>\n",
       "      <td>CHIEF OPERATING OFFICER</td>\n",
       "      <td>Y</td>\n",
       "      <td>242674.0</td>\n",
       "      <td>2016.0</td>\n",
       "      <td>PLANO, TEXAS</td>\n",
       "      <td>non university</td>\n",
       "      <td>TEXAS</td>\n",
       "    </tr>\n",
       "    <tr>\n",
       "      <th>2</th>\n",
       "      <td>3</td>\n",
       "      <td>CERTIFIED</td>\n",
       "      <td>ports america group, inc.</td>\n",
       "      <td>CHIEF EXECUTIVES</td>\n",
       "      <td>CHIEF PROCESS OFFICER</td>\n",
       "      <td>Y</td>\n",
       "      <td>193066.0</td>\n",
       "      <td>2016.0</td>\n",
       "      <td>JERSEY CITY, NEW JERSEY</td>\n",
       "      <td>non university</td>\n",
       "      <td>NEW JERSEY</td>\n",
       "    </tr>\n",
       "    <tr>\n",
       "      <th>3</th>\n",
       "      <td>4</td>\n",
       "      <td>CERTIFIED</td>\n",
       "      <td>gates corporation, a wholly-owned subsidiary o...</td>\n",
       "      <td>CHIEF EXECUTIVES</td>\n",
       "      <td>REGIONAL PRESIDEN, AMERICAS</td>\n",
       "      <td>Y</td>\n",
       "      <td>220314.0</td>\n",
       "      <td>2016.0</td>\n",
       "      <td>DENVER, COLORADO</td>\n",
       "      <td>non university</td>\n",
       "      <td>COLORADO</td>\n",
       "    </tr>\n",
       "    <tr>\n",
       "      <th>5</th>\n",
       "      <td>6</td>\n",
       "      <td>CERTIFIED</td>\n",
       "      <td>burger king corporation</td>\n",
       "      <td>CHIEF EXECUTIVES</td>\n",
       "      <td>EXECUTIVE V P, GLOBAL DEVELOPMENT AND PRESIDEN...</td>\n",
       "      <td>Y</td>\n",
       "      <td>225000.0</td>\n",
       "      <td>2016.0</td>\n",
       "      <td>MIAMI, FLORIDA</td>\n",
       "      <td>non university</td>\n",
       "      <td>FLORIDA</td>\n",
       "    </tr>\n",
       "  </tbody>\n",
       "</table>\n",
       "</div>"
      ],
      "text/plain": [
       "   Unnamed: 0 CASE_STATUS                                      EMPLOYER_NAME  \\\n",
       "0           1   CERTIFIED                             university of michigan   \n",
       "1           2   CERTIFIED                             goodman networks, inc.   \n",
       "2           3   CERTIFIED                          ports america group, inc.   \n",
       "3           4   CERTIFIED  gates corporation, a wholly-owned subsidiary o...   \n",
       "5           6   CERTIFIED                            burger king corporation   \n",
       "\n",
       "                        SOC_NAME  \\\n",
       "0  BIOCHEMISTS AND BIOPHYSICISTS   \n",
       "1               CHIEF EXECUTIVES   \n",
       "2               CHIEF EXECUTIVES   \n",
       "3               CHIEF EXECUTIVES   \n",
       "5               CHIEF EXECUTIVES   \n",
       "\n",
       "                                           JOB_TITLE FULL_TIME_POSITION  \\\n",
       "0                       POSTDOCTORAL RESEARCH FELLOW                  N   \n",
       "1                            CHIEF OPERATING OFFICER                  Y   \n",
       "2                              CHIEF PROCESS OFFICER                  Y   \n",
       "3                        REGIONAL PRESIDEN, AMERICAS                  Y   \n",
       "5  EXECUTIVE V P, GLOBAL DEVELOPMENT AND PRESIDEN...                  Y   \n",
       "\n",
       "   PREVAILING_WAGE    YEAR                 WORKSITE    NEW_EMPLOYER  \\\n",
       "0          36067.0  2016.0      ANN ARBOR, MICHIGAN      university   \n",
       "1         242674.0  2016.0             PLANO, TEXAS  non university   \n",
       "2         193066.0  2016.0  JERSEY CITY, NEW JERSEY  non university   \n",
       "3         220314.0  2016.0         DENVER, COLORADO  non university   \n",
       "5         225000.0  2016.0           MIAMI, FLORIDA  non university   \n",
       "\n",
       "        STATE  \n",
       "0    MICHIGAN  \n",
       "1       TEXAS  \n",
       "2  NEW JERSEY  \n",
       "3    COLORADO  \n",
       "5     FLORIDA  "
      ]
     },
     "execution_count": 17,
     "metadata": {},
     "output_type": "execute_result"
    }
   ],
   "source": [
    "#Checking the attributes of the data set\n",
    "data.head()"
   ]
  },
  {
   "cell_type": "code",
   "execution_count": 18,
   "metadata": {},
   "outputs": [],
   "source": [
    "#Dropping the unwanted attributes from the dataset\n",
    "data = data.drop('EMPLOYER_NAME', axis = 1)\n",
    "data = data.drop('WORKSITE', axis = 1)\n",
    "data = data.drop('Unnamed: 0', axis = 1)"
   ]
  },
  {
   "cell_type": "code",
   "execution_count": 19,
   "metadata": {},
   "outputs": [
    {
     "data": {
      "text/html": [
       "<div>\n",
       "<style scoped>\n",
       "    .dataframe tbody tr th:only-of-type {\n",
       "        vertical-align: middle;\n",
       "    }\n",
       "\n",
       "    .dataframe tbody tr th {\n",
       "        vertical-align: top;\n",
       "    }\n",
       "\n",
       "    .dataframe thead th {\n",
       "        text-align: right;\n",
       "    }\n",
       "</style>\n",
       "<table border=\"1\" class=\"dataframe\">\n",
       "  <thead>\n",
       "    <tr style=\"text-align: right;\">\n",
       "      <th></th>\n",
       "      <th>CASE_STATUS</th>\n",
       "      <th>SOC_NAME</th>\n",
       "      <th>JOB_TITLE</th>\n",
       "      <th>FULL_TIME_POSITION</th>\n",
       "      <th>PREVAILING_WAGE</th>\n",
       "      <th>YEAR</th>\n",
       "      <th>NEW_EMPLOYER</th>\n",
       "      <th>STATE</th>\n",
       "    </tr>\n",
       "  </thead>\n",
       "  <tbody>\n",
       "    <tr>\n",
       "      <th>0</th>\n",
       "      <td>CERTIFIED</td>\n",
       "      <td>BIOCHEMISTS AND BIOPHYSICISTS</td>\n",
       "      <td>POSTDOCTORAL RESEARCH FELLOW</td>\n",
       "      <td>N</td>\n",
       "      <td>36067.0</td>\n",
       "      <td>2016.0</td>\n",
       "      <td>university</td>\n",
       "      <td>MICHIGAN</td>\n",
       "    </tr>\n",
       "    <tr>\n",
       "      <th>1</th>\n",
       "      <td>CERTIFIED</td>\n",
       "      <td>CHIEF EXECUTIVES</td>\n",
       "      <td>CHIEF OPERATING OFFICER</td>\n",
       "      <td>Y</td>\n",
       "      <td>242674.0</td>\n",
       "      <td>2016.0</td>\n",
       "      <td>non university</td>\n",
       "      <td>TEXAS</td>\n",
       "    </tr>\n",
       "    <tr>\n",
       "      <th>2</th>\n",
       "      <td>CERTIFIED</td>\n",
       "      <td>CHIEF EXECUTIVES</td>\n",
       "      <td>CHIEF PROCESS OFFICER</td>\n",
       "      <td>Y</td>\n",
       "      <td>193066.0</td>\n",
       "      <td>2016.0</td>\n",
       "      <td>non university</td>\n",
       "      <td>NEW JERSEY</td>\n",
       "    </tr>\n",
       "    <tr>\n",
       "      <th>3</th>\n",
       "      <td>CERTIFIED</td>\n",
       "      <td>CHIEF EXECUTIVES</td>\n",
       "      <td>REGIONAL PRESIDEN, AMERICAS</td>\n",
       "      <td>Y</td>\n",
       "      <td>220314.0</td>\n",
       "      <td>2016.0</td>\n",
       "      <td>non university</td>\n",
       "      <td>COLORADO</td>\n",
       "    </tr>\n",
       "    <tr>\n",
       "      <th>5</th>\n",
       "      <td>CERTIFIED</td>\n",
       "      <td>CHIEF EXECUTIVES</td>\n",
       "      <td>EXECUTIVE V P, GLOBAL DEVELOPMENT AND PRESIDEN...</td>\n",
       "      <td>Y</td>\n",
       "      <td>225000.0</td>\n",
       "      <td>2016.0</td>\n",
       "      <td>non university</td>\n",
       "      <td>FLORIDA</td>\n",
       "    </tr>\n",
       "  </tbody>\n",
       "</table>\n",
       "</div>"
      ],
      "text/plain": [
       "  CASE_STATUS                       SOC_NAME  \\\n",
       "0   CERTIFIED  BIOCHEMISTS AND BIOPHYSICISTS   \n",
       "1   CERTIFIED               CHIEF EXECUTIVES   \n",
       "2   CERTIFIED               CHIEF EXECUTIVES   \n",
       "3   CERTIFIED               CHIEF EXECUTIVES   \n",
       "5   CERTIFIED               CHIEF EXECUTIVES   \n",
       "\n",
       "                                           JOB_TITLE FULL_TIME_POSITION  \\\n",
       "0                       POSTDOCTORAL RESEARCH FELLOW                  N   \n",
       "1                            CHIEF OPERATING OFFICER                  Y   \n",
       "2                              CHIEF PROCESS OFFICER                  Y   \n",
       "3                        REGIONAL PRESIDEN, AMERICAS                  Y   \n",
       "5  EXECUTIVE V P, GLOBAL DEVELOPMENT AND PRESIDEN...                  Y   \n",
       "\n",
       "   PREVAILING_WAGE    YEAR    NEW_EMPLOYER       STATE  \n",
       "0          36067.0  2016.0      university    MICHIGAN  \n",
       "1         242674.0  2016.0  non university       TEXAS  \n",
       "2         193066.0  2016.0  non university  NEW JERSEY  \n",
       "3         220314.0  2016.0  non university    COLORADO  \n",
       "5         225000.0  2016.0  non university     FLORIDA  "
      ]
     },
     "execution_count": 19,
     "metadata": {},
     "output_type": "execute_result"
    }
   ],
   "source": [
    "#Checking the attributes of the data set\n",
    "data.head()"
   ]
  },
  {
   "cell_type": "code",
   "execution_count": 20,
   "metadata": {},
   "outputs": [],
   "source": [
    "#Coverting the categorical values into numerical values for further processing\n",
    "from sklearn.preprocessing import LabelEncoder\n",
    "le=LabelEncoder()\n",
    "data[['CASE_STATUS','SOC_NAME','JOB_TITLE','FULL_TIME_POSITION','NEW_EMPLOYER','STATE']] = data[['CASE_STATUS','SOC_NAME','JOB_TITLE','FULL_TIME_POSITION','NEW_EMPLOYER','STATE']].apply(le.fit_transform)"
   ]
  },
  {
   "cell_type": "code",
   "execution_count": 21,
   "metadata": {},
   "outputs": [
    {
     "data": {
      "text/plain": [
       "2019"
      ]
     },
     "execution_count": 21,
     "metadata": {},
     "output_type": "execute_result"
    }
   ],
   "source": [
    "len(data.SOC_NAME.unique())"
   ]
  },
  {
   "cell_type": "code",
   "execution_count": 22,
   "metadata": {},
   "outputs": [
    {
     "data": {
      "text/html": [
       "<div>\n",
       "<style scoped>\n",
       "    .dataframe tbody tr th:only-of-type {\n",
       "        vertical-align: middle;\n",
       "    }\n",
       "\n",
       "    .dataframe tbody tr th {\n",
       "        vertical-align: top;\n",
       "    }\n",
       "\n",
       "    .dataframe thead th {\n",
       "        text-align: right;\n",
       "    }\n",
       "</style>\n",
       "<table border=\"1\" class=\"dataframe\">\n",
       "  <thead>\n",
       "    <tr style=\"text-align: right;\">\n",
       "      <th></th>\n",
       "      <th>CASE_STATUS</th>\n",
       "      <th>SOC_NAME</th>\n",
       "      <th>JOB_TITLE</th>\n",
       "      <th>FULL_TIME_POSITION</th>\n",
       "      <th>PREVAILING_WAGE</th>\n",
       "      <th>YEAR</th>\n",
       "      <th>NEW_EMPLOYER</th>\n",
       "      <th>STATE</th>\n",
       "    </tr>\n",
       "  </thead>\n",
       "  <tbody>\n",
       "    <tr>\n",
       "      <th>0</th>\n",
       "      <td>0</td>\n",
       "      <td>160</td>\n",
       "      <td>153988</td>\n",
       "      <td>0</td>\n",
       "      <td>36067.0</td>\n",
       "      <td>2016.0</td>\n",
       "      <td>1</td>\n",
       "      <td>22</td>\n",
       "    </tr>\n",
       "    <tr>\n",
       "      <th>1</th>\n",
       "      <td>0</td>\n",
       "      <td>242</td>\n",
       "      <td>40901</td>\n",
       "      <td>1</td>\n",
       "      <td>242674.0</td>\n",
       "      <td>2016.0</td>\n",
       "      <td>0</td>\n",
       "      <td>45</td>\n",
       "    </tr>\n",
       "    <tr>\n",
       "      <th>2</th>\n",
       "      <td>0</td>\n",
       "      <td>242</td>\n",
       "      <td>40967</td>\n",
       "      <td>1</td>\n",
       "      <td>193066.0</td>\n",
       "      <td>2016.0</td>\n",
       "      <td>0</td>\n",
       "      <td>31</td>\n",
       "    </tr>\n",
       "    <tr>\n",
       "      <th>3</th>\n",
       "      <td>0</td>\n",
       "      <td>242</td>\n",
       "      <td>176465</td>\n",
       "      <td>1</td>\n",
       "      <td>220314.0</td>\n",
       "      <td>2016.0</td>\n",
       "      <td>0</td>\n",
       "      <td>5</td>\n",
       "    </tr>\n",
       "    <tr>\n",
       "      <th>5</th>\n",
       "      <td>0</td>\n",
       "      <td>242</td>\n",
       "      <td>83327</td>\n",
       "      <td>1</td>\n",
       "      <td>225000.0</td>\n",
       "      <td>2016.0</td>\n",
       "      <td>0</td>\n",
       "      <td>9</td>\n",
       "    </tr>\n",
       "  </tbody>\n",
       "</table>\n",
       "</div>"
      ],
      "text/plain": [
       "   CASE_STATUS  SOC_NAME  JOB_TITLE  FULL_TIME_POSITION  PREVAILING_WAGE  \\\n",
       "0            0       160     153988                   0          36067.0   \n",
       "1            0       242      40901                   1         242674.0   \n",
       "2            0       242      40967                   1         193066.0   \n",
       "3            0       242     176465                   1         220314.0   \n",
       "5            0       242      83327                   1         225000.0   \n",
       "\n",
       "     YEAR  NEW_EMPLOYER  STATE  \n",
       "0  2016.0             1     22  \n",
       "1  2016.0             0     45  \n",
       "2  2016.0             0     31  \n",
       "3  2016.0             0      5  \n",
       "5  2016.0             0      9  "
      ]
     },
     "execution_count": 22,
     "metadata": {},
     "output_type": "execute_result"
    }
   ],
   "source": [
    "#Checking the attributes of the data set\n",
    "data.head()"
   ]
  },
  {
   "cell_type": "code",
   "execution_count": 23,
   "metadata": {},
   "outputs": [
    {
     "data": {
      "text/plain": [
       "40638"
      ]
     },
     "execution_count": 23,
     "metadata": {},
     "output_type": "execute_result"
    }
   ],
   "source": [
    "data['JOB_TITLE'][39]"
   ]
  },
  {
   "cell_type": "code",
   "execution_count": 24,
   "metadata": {},
   "outputs": [
    {
     "name": "stdout",
     "output_type": "stream",
     "text": [
      "<class 'pandas.core.frame.DataFrame'>\n",
      "Int64Index: 2793013 entries, 0 to 3002392\n",
      "Data columns (total 8 columns):\n",
      " #   Column              Dtype  \n",
      "---  ------              -----  \n",
      " 0   CASE_STATUS         int32  \n",
      " 1   SOC_NAME            int32  \n",
      " 2   JOB_TITLE           int32  \n",
      " 3   FULL_TIME_POSITION  int32  \n",
      " 4   PREVAILING_WAGE     float64\n",
      " 5   YEAR                float64\n",
      " 6   NEW_EMPLOYER        int32  \n",
      " 7   STATE               int32  \n",
      "dtypes: float64(2), int32(6)\n",
      "memory usage: 127.9 MB\n"
     ]
    }
   ],
   "source": [
    "#Checking the data types ofthe attributes of the dataset\n",
    "data.info()"
   ]
  },
  {
   "cell_type": "code",
   "execution_count": 25,
   "metadata": {
    "scrolled": true
   },
   "outputs": [
    {
     "data": {
      "image/png": "[encoded data removed]",
      "text/plain": [
       "<Figure size 1440x1440 with 9 Axes>"
      ]
     },
     "metadata": {
      "needs_background": "light"
     },
     "output_type": "display_data"
    }
   ],
   "source": [
    "#Visualizing the performance of each attribute in the dataset\n",
    "data.hist(figsize=(20,20))\n",
    "plt.show()"
   ]
  },
  {
   "cell_type": "markdown",
   "metadata": {},
   "source": [
    "# Splitting of a dataset"
   ]
  },
  {
   "cell_type": "code",
   "execution_count": 26,
   "metadata": {},
   "outputs": [
    {
     "name": "stdout",
     "output_type": "stream",
     "text": [
      "         SOC_NAME  JOB_TITLE  FULL_TIME_POSITION  PREVAILING_WAGE    YEAR  \\\n",
      "0             160     153988                   0          36067.0  2016.0   \n",
      "1             242      40901                   1         242674.0  2016.0   \n",
      "2             242      40967                   1         193066.0  2016.0   \n",
      "3             242     176465                   1         220314.0  2016.0   \n",
      "5             242      83327                   1         225000.0  2016.0   \n",
      "...           ...        ...                 ...              ...     ...   \n",
      "3002369      1077     201985                   1          46738.0  2011.0   \n",
      "3002378        83       1717                   1          45760.0  2011.0   \n",
      "3002383       487       8937                   1          54080.0  2011.0   \n",
      "3002389      1834     184110                   1          55141.0  2011.0   \n",
      "3002392       127      11841                   1          69368.0  2011.0   \n",
      "\n",
      "         NEW_EMPLOYER  STATE  \n",
      "0                   1     22  \n",
      "1                   0     45  \n",
      "2                   0     31  \n",
      "3                   0      5  \n",
      "5                   0      9  \n",
      "...               ...    ...  \n",
      "3002369             0     10  \n",
      "3002378             0     13  \n",
      "3002383             0      8  \n",
      "3002389             0     22  \n",
      "3002392             0     33  \n",
      "\n",
      "[2793013 rows x 7 columns]\n"
     ]
    }
   ],
   "source": [
    "x = data.drop('CASE_STATUS', axis=1)\n",
    "print(x)"
   ]
  },
  {
   "cell_type": "code",
   "execution_count": 27,
   "metadata": {},
   "outputs": [
    {
     "name": "stdout",
     "output_type": "stream",
     "text": [
      "0          0\n",
      "1          0\n",
      "2          0\n",
      "3          0\n",
      "5          0\n",
      "          ..\n",
      "3002369    1\n",
      "3002378    1\n",
      "3002383    1\n",
      "3002389    1\n",
      "3002392    1\n",
      "Name: CASE_STATUS, Length: 2793013, dtype: int32\n"
     ]
    }
   ],
   "source": [
    "y = data.CASE_STATUS\n",
    "print(y)"
   ]
  },
  {
   "cell_type": "code",
   "execution_count": 28,
   "metadata": {},
   "outputs": [],
   "source": [
    "#Splitting the dataset into train and test data using sklearn\n",
    "from sklearn.model_selection import train_test_split\n",
    "#x = data.drop('CASE_STATUS', axis=1)\n",
    "#y = data.CASE_STATUS\n",
    "x_train, x_test, y_train, y_test = train_test_split(x, y, test_size=0.2 )"
   ]
  },
  {
   "cell_type": "code",
   "execution_count": 29,
   "metadata": {},
   "outputs": [],
   "source": [
    "#Scaling the dataset for inputting the values  \n",
    "from sklearn.preprocessing import StandardScaler\n",
    "sc_x = StandardScaler()\n",
    "sc_y = StandardScaler()\n",
    "x_train = sc_x.fit_transform(x_train)\n",
    "x_test = sc_x.transform(x_test)"
   ]
  },
  {
   "cell_type": "code",
   "execution_count": 30,
   "metadata": {},
   "outputs": [],
   "source": [
    "#Converting the values into byte stream\n",
    "import pickle\n",
    "pickle.dump(sc_x, open(\"scalerX\", \"wb\"))"
   ]
  },
  {
   "cell_type": "code",
   "execution_count": 31,
   "metadata": {},
   "outputs": [],
   "source": [
    "#Applying the scaler function for the dataset\n",
    "X_scaler = StandardScaler().fit(x_train)\n",
    "X_train_scaled = X_scaler.transform(x_train)\n",
    "X_test_scaled = X_scaler.transform(x_test)"
   ]
  },
  {
   "cell_type": "markdown",
   "metadata": {},
   "source": [
    "# Logistic Regression"
   ]
  },
  {
   "cell_type": "code",
   "execution_count": 32,
   "metadata": {},
   "outputs": [],
   "source": [
    "#Importing the logistic regression function from the sklearn library\n",
    "#Applying the logistic regression algorithm for the dataset and predcting the target variable\n",
    "from sklearn.linear_model import LogisticRegression\n",
    "lg=LogisticRegression()\n",
    "lg.fit(x_train,y_train)\n",
    "pred=lg.predict(x_test)"
   ]
  },
  {
   "cell_type": "code",
   "execution_count": 33,
   "metadata": {},
   "outputs": [
    {
     "name": "stdout",
     "output_type": "stream",
     "text": [
      "Classification Report:\n",
      "              precision    recall  f1-score   support\n",
      "\n",
      "           0       0.97      1.00      0.98    541286\n",
      "           1       0.96      0.02      0.03     17317\n",
      "\n",
      "    accuracy                           0.97    558603\n",
      "   macro avg       0.97      0.51      0.51    558603\n",
      "weighted avg       0.97      0.97      0.96    558603\n",
      "\n",
      "\n",
      "\n",
      "Confusion Matrix:\n",
      "[[541275     11]\n",
      " [ 17019    298]]\n"
     ]
    }
   ],
   "source": [
    "#Importing the Classifier and confusion matrix from the sklearn library\n",
    "#Visualizing the classification report and the confusion matrix using logistic regression algorithm\n",
    "from sklearn.metrics import classification_report, confusion_matrix\n",
    "print('Classification Report:')\n",
    "print(classification_report(y_test, pred))\n",
    "print('\\n')\n",
    "print('Confusion Matrix:')\n",
    "print(confusion_matrix(y_test, pred))"
   ]
  },
  {
   "cell_type": "code",
   "execution_count": 34,
   "metadata": {},
   "outputs": [
    {
     "name": "stdout",
     "output_type": "stream",
     "text": [
      "0.9695132321165479\n"
     ]
    }
   ],
   "source": [
    "#Predicting the accuracy of the target variable using logistic regression \n",
    "from sklearn.metrics import accuracy_score\n",
    "print(accuracy_score(y_test, pred))"
   ]
  },
  {
   "cell_type": "code",
   "execution_count": 35,
   "metadata": {},
   "outputs": [
    {
     "data": {
      "image/png": "[encoded data removed]",
      "text/plain": [
       "<Figure size 432x288 with 1 Axes>"
      ]
     },
     "metadata": {
      "needs_background": "light"
     },
     "output_type": "display_data"
    }
   ],
   "source": [
    "#Visualizing the data of target attribute using countplot\n",
    "sns.countplot(x=data['CASE_STATUS'], data=data)\n",
    "plt.show()"
   ]
  },
  {
   "cell_type": "code",
   "execution_count": 36,
   "metadata": {},
   "outputs": [],
   "source": [
    "#undersampling the dataset to balance the case_status\n",
    "from imblearn.under_sampling import NearMiss\n",
    "nm = NearMiss()\n",
    "x_res, y_res = nm.fit_resample(x, y)"
   ]
  },
  {
   "cell_type": "code",
   "execution_count": 37,
   "metadata": {},
   "outputs": [
    {
     "data": {
      "text/plain": [
       "(170356, 7)"
      ]
     },
     "execution_count": 37,
     "metadata": {},
     "output_type": "execute_result"
    }
   ],
   "source": [
    "x_res.shape"
   ]
  },
  {
   "cell_type": "code",
   "execution_count": 38,
   "metadata": {},
   "outputs": [],
   "source": [
    "##Importing the logistic regression function from the sklearn library\n",
    "#Applying the logistic regression algorithm for the dataset and predcting the target variable\n",
    "from sklearn.linear_model import LogisticRegression\n",
    "X_train, X_test, Y_train, Y_test = train_test_split(x_res,y_res, test_size=0.2)\n",
    "clf = LogisticRegression().fit(X_train, Y_train)\n",
    "Y_Test_Pred = clf.predict(X_test)"
   ]
  },
  {
   "cell_type": "code",
   "execution_count": 39,
   "metadata": {},
   "outputs": [
    {
     "name": "stdout",
     "output_type": "stream",
     "text": [
      "Classification Report:\n",
      "              precision    recall  f1-score   support\n",
      "\n",
      "           0       0.68      0.69      0.69     17119\n",
      "           1       0.68      0.67      0.68     16953\n",
      "\n",
      "    accuracy                           0.68     34072\n",
      "   macro avg       0.68      0.68      0.68     34072\n",
      "weighted avg       0.68      0.68      0.68     34072\n",
      "\n",
      "\n",
      "\n",
      "Confusion Matrix:\n",
      "[[11830  5289]\n",
      " [ 5531 11422]]\n"
     ]
    }
   ],
   "source": [
    "##Importing the Classifier and confusion matrix from the sklearn library\n",
    "#Visualizing the classification report and the confusion matrix using logistic regression algorithm\n",
    "from sklearn.metrics import classification_report, confusion_matrix\n",
    "print('Classification Report:')\n",
    "print(classification_report(Y_test,Y_Test_Pred))\n",
    "print('\\n')\n",
    "print('Confusion Matrix:')\n",
    "print(confusion_matrix(Y_test, Y_Test_Pred))"
   ]
  },
  {
   "cell_type": "code",
   "execution_count": 40,
   "metadata": {},
   "outputs": [
    {
     "name": "stdout",
     "output_type": "stream",
     "text": [
      "0.6824371918290678\n"
     ]
    }
   ],
   "source": [
    "#Predicting the accuracy of the target variable using logistic regression \n",
    "from sklearn.metrics import accuracy_score\n",
    "print(accuracy_score(Y_test, Y_Test_Pred))"
   ]
  },
  {
   "cell_type": "markdown",
   "metadata": {},
   "source": [
    "# K Nearest Neighbours(KNN)"
   ]
  },
  {
   "cell_type": "code",
   "execution_count": 41,
   "metadata": {},
   "outputs": [],
   "source": [
    "#Importing the KNN function from the sklearn library\n",
    "#Applying the KNN algorithm for the dataset and predcting the target variable\n",
    "from sklearn.neighbors import KNeighborsClassifier \n",
    "knn = KNeighborsClassifier(n_neighbors = 3)\n",
    "knn.fit(X_train, Y_train)\n",
    "k_pred = knn.predict(X_test)"
   ]
  },
  {
   "cell_type": "code",
   "execution_count": 42,
   "metadata": {},
   "outputs": [
    {
     "name": "stdout",
     "output_type": "stream",
     "text": [
      "Classification Report:\n",
      "              precision    recall  f1-score   support\n",
      "\n",
      "           0       0.96      0.99      0.97     17119\n",
      "           1       0.99      0.95      0.97     16953\n",
      "\n",
      "    accuracy                           0.97     34072\n",
      "   macro avg       0.97      0.97      0.97     34072\n",
      "weighted avg       0.97      0.97      0.97     34072\n",
      "\n",
      "\n",
      "\n",
      "Confusion Matrix:\n",
      "[[16976   143]\n",
      " [  770 16183]]\n"
     ]
    }
   ],
   "source": [
    "#Importing the Classifier and confusion matrix from the sklearn library\n",
    "#Visualizing the classification report and the confusion matrix using KNN algorithm\n",
    "from sklearn.metrics import classification_report, confusion_matrix\n",
    "print('Classification Report:')\n",
    "print(classification_report(Y_test,k_pred))\n",
    "print('\\n')\n",
    "print('Confusion Matrix:')\n",
    "print(confusion_matrix(Y_test, k_pred))"
   ]
  },
  {
   "cell_type": "code",
   "execution_count": 43,
   "metadata": {},
   "outputs": [
    {
     "name": "stdout",
     "output_type": "stream",
     "text": [
      "0.973203803709791\n"
     ]
    }
   ],
   "source": [
    "#Predicting the accuracy of the target variable using KNN algorithm\n",
    "print(accuracy_score(Y_test, k_pred))"
   ]
  },
  {
   "cell_type": "code",
   "execution_count": 44,
   "metadata": {},
   "outputs": [],
   "source": [
    "#choosing the right K value \n",
    "error_rate = [] \n",
    "for i in range(1, 20): \n",
    "    knn = KNeighborsClassifier(n_neighbors = i) \n",
    "    knn.fit(X_train, Y_train) \n",
    "    pred_i = knn.predict(X_test) \n",
    "    error_rate.append(np.mean(pred_i != Y_test)) "
   ]
  },
  {
   "cell_type": "code",
   "execution_count": 45,
   "metadata": {
    "scrolled": true
   },
   "outputs": [
    {
     "data": {
      "text/plain": [
       "Text(0, 0.5, 'Error Rate')"
      ]
     },
     "execution_count": 45,
     "metadata": {},
     "output_type": "execute_result"
    },
    {
     "data": {
      "image/png": "[encoded data removed]",
      "text/plain": [
       "<Figure size 720x432 with 1 Axes>"
      ]
     },
     "metadata": {
      "needs_background": "light"
     },
     "output_type": "display_data"
    }
   ],
   "source": [
    "#plotting the error rate of k value using matplotlib\n",
    "plt.figure(figsize =(10, 6)) \n",
    "plt.plot(range(1, 20), error_rate, color ='blue', \n",
    "                linestyle ='dashed', marker ='o', \n",
    "         markerfacecolor ='red', markersize = 10) \n",
    "  \n",
    "plt.title('Error Rate vs K Value') \n",
    "plt.xlabel('K') \n",
    "plt.ylabel('Error Rate') "
   ]
  },
  {
   "cell_type": "markdown",
   "metadata": {},
   "source": [
    "# Decision Tree"
   ]
  },
  {
   "cell_type": "code",
   "execution_count": 46,
   "metadata": {},
   "outputs": [],
   "source": [
    "#Importing the Decision tree function from the sklearn library\n",
    "#Applying the Decision tree algorithm for the dataset and predcting the target variable\n",
    "from sklearn.tree import DecisionTreeClassifier\n",
    "dtc = DecisionTreeClassifier()\n",
    "dtc.fit(X_train, Y_train)\n",
    "d_pred = dtc.predict(X_test)"
   ]
  },
  {
   "cell_type": "code",
   "execution_count": 47,
   "metadata": {
    "scrolled": true
   },
   "outputs": [
    {
     "name": "stdout",
     "output_type": "stream",
     "text": [
      "Classification Report:\n",
      "              precision    recall  f1-score   support\n",
      "\n",
      "           0       0.96      0.99      0.98     17119\n",
      "           1       0.99      0.96      0.98     16953\n",
      "\n",
      "    accuracy                           0.98     34072\n",
      "   macro avg       0.98      0.98      0.98     34072\n",
      "weighted avg       0.98      0.98      0.98     34072\n",
      "\n",
      "\n",
      "\n",
      "Confusion Matrix:\n",
      "[[17033    86]\n",
      " [  709 16244]]\n"
     ]
    }
   ],
   "source": [
    "#Importing the Classifier and confusion matrix from the sklearn library\n",
    "#Visualizing the classification report and the confusion matrix using Decision tree algorithm\n",
    "from sklearn.metrics import classification_report, confusion_matrix\n",
    "print('Classification Report:')\n",
    "print(classification_report(Y_test,d_pred))\n",
    "print('\\n')\n",
    "print('Confusion Matrix:')\n",
    "print(confusion_matrix(Y_test,d_pred))"
   ]
  },
  {
   "cell_type": "code",
   "execution_count": 48,
   "metadata": {},
   "outputs": [
    {
     "name": "stdout",
     "output_type": "stream",
     "text": [
      "0.9766670579948344\n"
     ]
    }
   ],
   "source": [
    "#Predicting the accuracy of the target variable using decision tree algorithm\n",
    "print(accuracy_score(Y_test,d_pred))"
   ]
  },
  {
   "cell_type": "markdown",
   "metadata": {},
   "source": [
    "# Random Forest "
   ]
  },
  {
   "cell_type": "code",
   "execution_count": 49,
   "metadata": {},
   "outputs": [
    {
     "name": "stdout",
     "output_type": "stream",
     "text": [
      "[0 1 0 ... 0 0 1]         SOC_NAME  JOB_TITLE  FULL_TIME_POSITION  PREVAILING_WAGE    YEAR  \\\n",
      "19549       1745     221927                   0          63877.0  2016.0   \n",
      "156398       847      64183                   1         138528.0  2011.0   \n",
      "5248         369     164618                   0          62566.0  2016.0   \n",
      "169028        92     129620                   1          57865.6  2011.0   \n",
      "27477        337     164618                   1          66602.0  2015.0   \n",
      "...          ...        ...                 ...              ...     ...   \n",
      "35047        337     164618                   1          52499.0  2015.0   \n",
      "50477        337     164618                   1          69056.0  2015.0   \n",
      "28956        684     167285                   1          66248.0  2015.0   \n",
      "22334       1745     220022                   0          63877.0  2016.0   \n",
      "153952       449      41561                   1          53000.0  2011.0   \n",
      "\n",
      "        NEW_EMPLOYER  STATE  \n",
      "19549              0     31  \n",
      "156398             0      6  \n",
      "5248               0     45  \n",
      "169028             0      9  \n",
      "27477              0     39  \n",
      "...              ...    ...  \n",
      "35047              0     31  \n",
      "50477              0     48  \n",
      "28956              0     22  \n",
      "22334              0     31  \n",
      "153952             0      4  \n",
      "\n",
      "[34072 rows x 7 columns]\n"
     ]
    }
   ],
   "source": [
    "#Importing the random forest function from the sklearn library\n",
    "#Applying the random forest algorithm for the dataset and predcting the target variable\n",
    "from sklearn.ensemble import RandomForestClassifier\n",
    "rf=RandomForestClassifier(n_estimators=12)\n",
    "rf.fit(X_train,Y_train)\n",
    "r_pred=rf.predict(X_test)\n",
    "print(r_pred,X_test)"
   ]
  },
  {
   "cell_type": "code",
   "execution_count": 50,
   "metadata": {},
   "outputs": [
    {
     "name": "stdout",
     "output_type": "stream",
     "text": [
      "914\n"
     ]
    }
   ],
   "source": [
    "print(data['SOC_NAME'][1543])"
   ]
  },
  {
   "cell_type": "code",
   "execution_count": 51,
   "metadata": {},
   "outputs": [
    {
     "name": "stdout",
     "output_type": "stream",
     "text": [
      "Classification Report:\n",
      "              precision    recall  f1-score   support\n",
      "\n",
      "           0       0.97      0.99      0.98     17119\n",
      "           1       0.99      0.96      0.98     16953\n",
      "\n",
      "    accuracy                           0.98     34072\n",
      "   macro avg       0.98      0.98      0.98     34072\n",
      "weighted avg       0.98      0.98      0.98     34072\n",
      "\n",
      "\n",
      "\n",
      "Confusion Matrix:\n",
      "[[17002   117]\n",
      " [  604 16349]]\n"
     ]
    }
   ],
   "source": [
    "#Importing the Classifier and confusion matrix from the sklearn library\n",
    "#Visualizing the classification report and the confusion matrix using random forest algorithm\n",
    "from sklearn.metrics import classification_report, confusion_matrix\n",
    "print('Classification Report:')\n",
    "print(classification_report(Y_test,r_pred))\n",
    "print('\\n')\n",
    "print('Confusion Matrix:')\n",
    "print(confusion_matrix(Y_test,r_pred))"
   ]
  },
  {
   "cell_type": "code",
   "execution_count": 52,
   "metadata": {},
   "outputs": [
    {
     "name": "stdout",
     "output_type": "stream",
     "text": [
      "0.9788389293261329\n"
     ]
    }
   ],
   "source": [
    "#Predicting the accuracy of the target variable using random forest algorithm\n",
    "print(accuracy_score(Y_test,r_pred))"
   ]
  },
  {
   "cell_type": "code",
   "execution_count": 53,
   "metadata": {},
   "outputs": [],
   "source": [
    "#undersampling the dataset to balance the case_status\n",
    "from imblearn.under_sampling import NearMiss\n",
    "nm = NearMiss()\n",
    "x_res, y_res = nm.fit_resample(x, y)"
   ]
  },
  {
   "cell_type": "code",
   "execution_count": 54,
   "metadata": {},
   "outputs": [],
   "source": [
    "##Importing the logistic regression function from the sklearn library\n",
    "#Applying the logistic regression algorithm for the dataset and predcting the target variable\n",
    "from sklearn.ensemble import RandomForestClassifier\n",
    "X_train, X_test, Y_train, Y_test = train_test_split(x_res,y_res, test_size=0.2)\n",
    "rf1 = RandomForestClassifier().fit(X_train, Y_train)\n",
    "rf1_Pred = rf1.predict(X_test)"
   ]
  },
  {
   "cell_type": "code",
   "execution_count": 55,
   "metadata": {},
   "outputs": [
    {
     "name": "stdout",
     "output_type": "stream",
     "text": [
      "Classification Report:\n",
      "              precision    recall  f1-score   support\n",
      "\n",
      "           0       0.97      0.99      0.98     17027\n",
      "           1       0.99      0.97      0.98     17045\n",
      "\n",
      "    accuracy                           0.98     34072\n",
      "   macro avg       0.98      0.98      0.98     34072\n",
      "weighted avg       0.98      0.98      0.98     34072\n",
      "\n",
      "\n",
      "\n",
      "Confusion Matrix:\n",
      "[[16913   114]\n",
      " [  568 16477]]\n"
     ]
    }
   ],
   "source": [
    "##Importing the Classifier and confusion matrix from the sklearn library\n",
    "#Visualizing the classification report and the confusion matrix using logistic regression algorithm\n",
    "from sklearn.metrics import classification_report, confusion_matrix\n",
    "print('Classification Report:')\n",
    "print(classification_report(Y_test,rf1_Pred))\n",
    "print('\\n')\n",
    "print('Confusion Matrix:')\n",
    "print(confusion_matrix(Y_test, rf1_Pred))"
   ]
  },
  {
   "cell_type": "code",
   "execution_count": 56,
   "metadata": {},
   "outputs": [
    {
     "name": "stdout",
     "output_type": "stream",
     "text": [
      "0.9799835642169523\n"
     ]
    }
   ],
   "source": [
    "#Predicting the accuracy of the target variable using logistic regression \n",
    "from sklearn.metrics import accuracy_score\n",
    "print(accuracy_score(Y_test, rf1_Pred))"
   ]
  },
  {
   "cell_type": "markdown",
   "metadata": {},
   "source": [
    "# GAUSSIAN NAIVE BAYES"
   ]
  },
  {
   "cell_type": "code",
   "execution_count": 57,
   "metadata": {},
   "outputs": [],
   "source": [
    "#Importing the GAUSSIAN NAIVE BAYES function from the sklearn library\n",
    "#Applying the GAUSSIAN NAIVE BAYESalgorithm for the dataset and predcting the target variable\n",
    "from sklearn.naive_bayes import GaussianNB\n",
    "nb=GaussianNB()\n",
    "nb.fit(X_train,Y_train)\n",
    "n_pred=nb.predict(X_test)"
   ]
  },
  {
   "cell_type": "code",
   "execution_count": 58,
   "metadata": {},
   "outputs": [
    {
     "name": "stdout",
     "output_type": "stream",
     "text": [
      "Classification Report:\n",
      "              precision    recall  f1-score   support\n",
      "\n",
      "           0       0.52      0.99      0.68     17027\n",
      "           1       0.93      0.07      0.12     17045\n",
      "\n",
      "    accuracy                           0.53     34072\n",
      "   macro avg       0.72      0.53      0.40     34072\n",
      "weighted avg       0.72      0.53      0.40     34072\n",
      "\n",
      "\n",
      "\n",
      "Confusion Matrix:\n",
      "[[16939    88]\n",
      " [15909  1136]]\n"
     ]
    }
   ],
   "source": [
    "#Importing the Classifier and confusion matrix from the sklearn library\n",
    "#Visualizing the classification report and the confusion matrix using gaussian naive bayes algorithm\n",
    "from sklearn.metrics import classification_report, confusion_matrix\n",
    "print('Classification Report:')\n",
    "print(classification_report(Y_test,n_pred))\n",
    "print('\\n')\n",
    "print('Confusion Matrix:')\n",
    "print(confusion_matrix(Y_test,n_pred))"
   ]
  },
  {
   "cell_type": "code",
   "execution_count": 59,
   "metadata": {},
   "outputs": [
    {
     "name": "stdout",
     "output_type": "stream",
     "text": [
      "0.5304942474759333\n"
     ]
    }
   ],
   "source": [
    "#Predicting the accuracy of the target variable using gaussian  naive bayes algorithm\n",
    "print(accuracy_score(Y_test,n_pred))"
   ]
  },
  {
   "cell_type": "code",
   "execution_count": 60,
   "metadata": {},
   "outputs": [
    {
     "name": "stdout",
     "output_type": "stream",
     "text": [
      "Accuracy scores of each model\n",
      "LogisticRegression:  0.501291382953745\n",
      "Knn               :  0.5040208969241606\n",
      "Decision tree     :  0.5026121155200751\n",
      "Random forest     :  0.9799835642169523\n",
      "GaussianNB        :  0.5304942474759333\n",
      "\n",
      "Highest accuracy is for logistic regression\n"
     ]
    }
   ],
   "source": [
    "#Printing the accuracy scores of each and every algorithm for analyzing\n",
    "print(\"Accuracy scores of each model\")\n",
    "print(\"LogisticRegression: \",accuracy_score(Y_test, Y_Test_Pred))\n",
    "print(\"Knn               : \",accuracy_score(Y_test, k_pred))\n",
    "print(\"Decision tree     : \",accuracy_score(Y_test,d_pred))\n",
    "print(\"Random forest     : \",accuracy_score(Y_test,rf1_Pred))\n",
    "print(\"GaussianNB        : \",accuracy_score(Y_test,n_pred))\n",
    "print()\n",
    "print(\"Highest accuracy is for logistic regression\")"
   ]
  },
  {
   "cell_type": "code",
   "execution_count": 61,
   "metadata": {},
   "outputs": [
    {
     "name": "stdout",
     "output_type": "stream",
     "text": [
      "[[17028    83]\n",
      " [   91 16870]]\n",
      "\n",
      "[[16911    81]\n",
      " [   82 16998]]\n",
      "\n",
      "[[16850    92]\n",
      " [   80 17050]]\n",
      "\n",
      "[[17064    71]\n",
      " [   85 16852]]\n",
      "\n"
     ]
    }
   ],
   "source": [
    "#mcnemar's statistical test between random forest and decision tree for 4 iterations\n",
    "from mlxtend.evaluate import mcnemar_table\n",
    "from mlxtend.evaluate import mcnemar\n",
    "rfc_score=[]\n",
    "dt_score=[]\n",
    "for i in [9,15,42,98] :\n",
    "    X_train1, X_test1, Y_train1, Y_test1 = train_test_split(x_res,y_res, test_size=0.2, random_state=i)\n",
    "    rf.fit(X_train1,Y_train1)\n",
    "    r_avg=rf.predict(X_test1)\n",
    "    r_pred_avg=accuracy_score(Y_test1,r_avg)\n",
    "    rfc_score.append(r_pred_avg)\n",
    "    dtc.fit(X_train1, Y_train1)\n",
    "    d_avg = dtc.predict(X_test1)\n",
    "    d_pred_avg=accuracy_score(Y_test1,d_avg)\n",
    "    dt_score.append(d_pred_avg)\n",
    "    tb = mcnemar_table(y_target=Y_test, \n",
    "                   y_model1=r_avg, \n",
    "                   y_model2=d_avg)\n",
    "\n",
    "    print(tb)\n",
    "    print()"
   ]
  },
  {
   "cell_type": "code",
   "execution_count": 62,
   "metadata": {},
   "outputs": [
    {
     "name": "stdout",
     "output_type": "stream",
     "text": [
      "random forest:  [0.9787802301009627, 0.9784867339751115, 0.9772540502465368, 0.9785160835876966]\n",
      "decition tree:  [0.9764322610941536, 0.9759333176802066, 0.9750234796900681, 0.9769899037332708]\n"
     ]
    }
   ],
   "source": [
    "#this is the accuracy of random forest and decision tree on 4 iterations\n",
    "print(\"random forest: \",rfc_score)\n",
    "print(\"decition tree: \",dt_score)"
   ]
  },
  {
   "cell_type": "code",
   "execution_count": 63,
   "metadata": {},
   "outputs": [
    {
     "name": "stdout",
     "output_type": "stream",
     "text": [
      "mean accuracy of random forest is:  0.9782592744775769\n",
      "mean accuracy of decision tree is:  0.9760947405494249\n"
     ]
    }
   ],
   "source": [
    "#this is the mean accuracy of random forest and decision tree\n",
    "print(\"mean accuracy of random forest is: \",np.mean(rfc_score))\n",
    "print(\"mean accuracy of decision tree is: \",np.mean(dt_score))"
   ]
  },
  {
   "cell_type": "code",
   "execution_count": 64,
   "metadata": {},
   "outputs": [
    {
     "data": {
      "text/plain": [
       "['model.sav']"
      ]
     },
     "execution_count": 64,
     "metadata": {},
     "output_type": "execute_result"
    }
   ],
   "source": [
    "#Finalizing the best fit algorithm for prediction using joblib library\n",
    "import joblib as joblib\n",
    "filename = 'model.sav'\n",
    "joblib.dump(rf, filename)"
   ]
  },
  {
   "cell_type": "code",
   "execution_count": 65,
   "metadata": {},
   "outputs": [
    {
     "name": "stdout",
     "output_type": "stream",
     "text": [
      "[0]\n",
      "Yah !! Congragulations , you have granted for the VISA :)\n"
     ]
    }
   ],
   "source": [
    "import joblib as joblib\n",
    "import pickle\n",
    "\n",
    "#Reading the data set from the .csv file\n",
    "\n",
    "\n",
    "model = joblib.load(\"model.sav\")\n",
    "scalerX = pickle.load(open(\"scalerX\", \"rb\"))\n",
    "\n",
    "#to_predict = ([242,40638,1,187200.0,2016.0,0,49])\n",
    "to_predict = ([1875,221927,1,98675.0,2014,0,4])\n",
    "#to_predict = ([242,40901,1,242674.0,2016,0,45])\n",
    "\n",
    "#print([to_predict])\n",
    "pred = model.predict([to_predict])\n",
    "print(pred)\n",
    "\n",
    "if pred == 0:\n",
    "    print('Yah !! Congragulations , you have granted for the VISA :)')\n",
    "    \n",
    "else:\n",
    "    print('We are sorry for rejection of the VISA :(')\n",
    "    "
   ]
  },
  {
   "cell_type": "code",
   "execution_count": null,
   "metadata": {},
   "outputs": [],
   "source": []
  }
 ],
 "metadata": {
  "kernelspec": {
   "display_name": "Python 3",
   "language": "python",
   "name": "python3"
  },
  "language_info": {
   "codemirror_mode": {
    "name": "ipython",
    "version": 3
   },
   "file_extension": ".py",
   "mimetype": "text/x-python",
   "name": "python",
   "nbconvert_exporter": "python",
   "pygments_lexer": "ipython3",
   "version": "3.8.5"
  }
 },
 "nbformat": 4,
 "nbformat_minor": 4
}
